{
 "cells": [
  {
   "cell_type": "code",
   "execution_count": null,
   "metadata": {},
   "outputs": [],
   "source": [
    "from IPython.display import display, Javascript, HTML\n",
    "import urllib.parse\n",
    "import base64\n",
    "\n",
    "# Display loading message immediately\n",
    "display(HTML(\"<div id='status'>Loading control system...</div>\"))\n",
    "\n",
    "def get_code_from_url():\n",
    "    \"\"\"Extract code from URL parameters\"\"\"\n",
    "    params = urllib.parse.parse_qs(window.location.search.split('?')[1] if '?' in window.location.search else '')\n",
    "    if 'code' in params:\n",
    "        try:\n",
    "            return base64.b64decode(urllib.parse.unquote(params['code'][0])).decode('utf-8')\n",
    "        except:\n",
    "            return None\n",
    "    return None\n",
    "\n",
    "def inject_and_execute(code):\n",
    "    \"\"\"Inject code into first cell and execute it\"\"\"\n",
    "    display(Javascript(f\"\"\"\n",
    "    (function() {{\n",
    "        // Update status\n",
    "        document.getElementById('status').innerHTML = 'Running simulation...';\n",
    "        \n",
    "        // Find first code cell\n",
    "        var cell = Jupyter.notebook.get_cells().find(c => c.cell_type === 'code');\n",
    "        if (cell) {{\n",
    "            // Set and execute the code\n",
    "            cell.set_text({json.dumps(code)});\n",
    "            cell.execute();\n",
    "        }}\n",
    "    }})();\n",
    "    \"\"\"))\n",
    "\n",
    "# Main execution flow\n",
    "code = get_code_from_url()\n",
    "if code:\n",
    "    inject_and_execute(code)\n",
    "else:\n",
    "    display(Javascript(\"\"\"\n",
    "    document.getElementById('status').innerHTML = \n",
    "        'No control system code found. Ready for manual input.';\n",
    "    \"\"\"))\n",
    "    \n",
    "    # Load default imports\n",
    "    %matplotlib inline\n",
    "    import control\n",
    "    import matplotlib.pyplot as plt"
   ]
  }
 ],
 "metadata": {
  "kernelspec": {
   "display_name": "python-control",
   "language": "python",
   "name": "python3"
  },
  "language_info": {
   "codemirror_mode": {
    "name": "ipython",
    "version": 3
   },
   "file_extension": ".py",
   "mimetype": "text/x-python",
   "name": "python",
   "nbconvert_exporter": "python",
   "pygments_lexer": "ipython3",
   "version": "3.10"
  }
 },
 "nbformat": 4,
 "nbformat_minor": 5
}

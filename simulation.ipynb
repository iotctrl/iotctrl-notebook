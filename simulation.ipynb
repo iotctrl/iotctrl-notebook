{
 "cells": [
  {
   "cell_type": "code",
   "execution_count": null,
   "metadata": {},
   "outputs": [],
   "source": [
    "from IPython.display import display, Javascript\n",
    "import json\n",
    "\n",
    "display(Javascript(\"\"\"\n",
    "// Get session ID from URL\n",
    "const params = new URLSearchParams(window.location.search);\n",
    "const sessionId = params.get('session');\n",
    "\n",
    "if (sessionId) {\n",
    "    // Retrieve code from localStorage\n",
    "    const code = localStorage.getItem(sessionId);\n",
    "    if (code) {\n",
    "        // Inject into first cell and execute\n",
    "        const cell = Jupyter.notebook.get_cells()[0];\n",
    "        cell.set_text(code);\n",
    "        cell.execute();\n",
    "        localStorage.removeItem(sessionId); // Clean up\n",
    "    }\n",
    "}\n",
    "\"\"\"))\n",
    "\n",
    "# Default imports if no code is found\n",
    "%matplotlib inline\n",
    "import control\n",
    "import matplotlib.pyplot as plt\n",
    "print(\"Ready for simulation. Execute cells manually or wait for automatic loading.\")"
   ]
  }
 ],
 "metadata": {
  "kernelspec": {
   "display_name": "python-control",
   "language": "python",
   "name": "python3"
  },
  "language_info": {
   "codemirror_mode": {
    "name": "ipython",
    "version": 3
   },
   "file_extension": ".py",
   "mimetype": "text/x-python",
   "name": "python",
   "nbconvert_exporter": "python",
   "pygments_lexer": "ipython3",
   "version": "3.10"
  }
 },
 "nbformat": 4,
 "nbformat_minor": 5
}

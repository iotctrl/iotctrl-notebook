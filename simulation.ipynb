{
 "cells": [
  {
   "cell_type": "code",
   "execution_count": null,
   "metadata": {
    "tags": ["auto-run"]
   },
   "outputs": [],
   "source": [
    "# This cell MUST run automatically - see metadata tag\n",
    "from IPython.display import display, Javascript\n",
    "import json\n",
    "\n",
    "# Display message immediately\n",
    "print(\"Initializing automatic execution...\")\n",
    "\n",
    "# JavaScript that runs automatically\n",
    "auto_run_js = \"\"\"\n",
    "console.log('Starting automatic execution');\n",
    "\n",
    "// Get session ID from URL\n",
    "const params = new URLSearchParams(window.location.search);\n",
    "const sessionId = params.get('session');\n",
    "console.log('Session ID:', sessionId);\n",
    "\n",
    "if (sessionId) {\n",
    "    // Retrieve code from sessionStorage\n",
    "    const code = sessionStorage.getItem(sessionId);\n",
    "    console.log('Code found:', !!code);\n",
    "    \n",
    "    if (code) {\n",
    "        // Find the first code cell after this one\n",
    "        const cells = Jupyter.notebook.get_cells();\n",
    "        for (let i = 1; i < cells.length; i++) {  // Start after this cell\n",
    "            if (cells[i].cell_type === 'code') {\n",
    "                console.log('Injecting code into cell', i);\n",
    "                cells[i].set_text(code);\n",
    "                \n",
    "                // Execute after short delay\n",
    "                setTimeout(() => {\n",
    "                    console.log('Executing cell', i);\n",
    "                    cells[i].execute();\n",
    "                    sessionStorage.removeItem(sessionId);\n",
    "                }, 500);\n",
    "                break;\n",
    "            }\n",
    "        }\n",
    "    }\n",
    "}\n",
    "\"\"\"\n",
    "\n",
    "# Execute JavaScript immediately\n",
    "display(Javascript(auto_run_js))"
   ]
  },
  {
   "cell_type": "code",
   "execution_count": null,
   "metadata": {},
   "outputs": [],
   "source": [
    "# This cell will be automatically populated and executed\n",
    "# Default content will be replaced by your control system code\n",
    "print(\"This cell will be replaced by the control system code\")\n",
    "\n",
    "# Default imports (will be executed automatically)\n",
    "%matplotlib inline\n",
    "import control\n",
    "import matplotlib.pyplot as plt"
   ]
  }
 ],
 "metadata": {
  "kernelspec": {
   "display_name": "python-control",
   "language": "python",
   "name": "python3"
  },
  "language_info": {
   "codemirror_mode": {
    "name": "ipython",
    "version": 3
   },
   "file_extension": ".py",
   "mimetype": "text/x-python",
   "name": "python",
   "nbconvert_exporter": "python",
   "pygments_lexer": "ipython3",
   "version": "3.10"
  }
 },
 "nbformat": 4,
 "nbformat_minor": 5
}

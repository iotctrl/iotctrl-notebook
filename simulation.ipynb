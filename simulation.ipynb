{
 "cells": [
  {
   "cell_type": "code",
   "execution_count": null,
   "metadata": {},
   "outputs": [],
   "source": [
    "from IPython.display import display, Javascript\n",
    "import urllib.request\n",
    "import urllib.parse\n",
    "import os\n",
    "from io import StringIO\n",
    "\n",
    "def load_code():\n",
    "    # Try from URL parameter first\n",
    "    if 'fileurl' in get_ipython().kernel.query:\n",
    "        file_url = urllib.parse.unquote(get_ipython().kernel.query['fileurl'][0])\n",
    "        try:\n",
    "            with urllib.request.urlopen(file_url) as response:\n",
    "                return response.read().decode('utf-8')\n",
    "        except:\n",
    "            pass\n",
    "    \n",
    "    # Fallback to sessionStorage (if same browser session)\n",
    "    display(Javascript(\"\"\"\n",
    "        let code = '';\n",
    "        if (sessionStorage.getItem('lastGeneratedCodeURL')) {\n",
    "            fetch(sessionStorage.getItem('lastGeneratedCodeURL'))\n",
    "                .then(response => response.text())\n",
    "                .then(text => {\n",
    "                    code = text;\n",
    "                    // Update first code cell\n",
    "                    const cells = Jupyter.notebook.get_cells();\n",
    "                    for (let i=0; i<cells.length; i++) {\n",
    "                        if (cells[i].cell_type === 'code') {\n",
    "                            cells[i].set_text(code);\n",
    "                            break;\n",
    "                        }\n",
    "                    }\n",
    "                });\n",
    "        }\n",
    "    \"\"\"))\n",
    "    return None\n",
    "\n",
    "# Load and inject code\n",
    "code = load_code()\n",
    "if code:\n",
    "    display(Javascript(f\"\"\"\n",
    "        var code = {code!r};\n",
    "        var cells = Jupyter.notebook.get_cells();\n",
    "        for (var i=0; i<cells.length; i++) {\n",
    "            if (cells[i].cell_type === 'code') {\n",
    "                cells[i].set_text(code);\n",
    "                break;\n",
    "            }\n",
    "        }\n",
    "    \"\"\"))\n",
    "\n",
    "# Default imports if no code injected\n",
    "import control\n",
    "import matplotlib.pyplot as plt\n",
    "%matplotlib inline\n",
    "print('Notebook ready for simulation')"
   ]
  }
 ],
 "metadata": {
  "kernelspec": {
   "display_name": "python-control",
   "language": "python",
   "name": "python3"
  },
  "language_info": {
   "codemirror_mode": {
    "name": "ipython",
    "version": 3
   },
   "file_extension": ".py",
   "mimetype": "text/x-python",
   "name": "python",
   "nbconvert_exporter": "python",
   "pygments_lexer": "ipython3",
   "version": "3.10"
  }
 },
 "nbformat": 4,
 "nbformat_minor": 5
}

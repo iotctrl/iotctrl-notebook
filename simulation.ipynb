{
 "cells": [
  {
   "cell_type": "code",
   "execution_count": null,
   "metadata": {},
   "outputs": [],
   "source": [
    "from IPython.display import display, Javascript\n",
    "import json\n",
    "\n",
    "# This JavaScript runs automatically on notebook load\n",
    "display(Javascript(\"\"\"\n",
    "(function() {\n",
    "    // Check if we're in an iframe (JupyterLab compatibility)\n",
    "    const inJupyterLab = window.self !== window.top;\n",
    "    \n",
    "    // Get session ID from URL\n",
    "    const params = new URLSearchParams(window.location.search);\n",
    "    const sessionId = params.get('session');\n",
    "    \n",
    "    // Function to handle code injection\n",
    "    function injectAndRun(code) {\n",
    "        // Create a new cell to avoid conflicts\n",
    "        const newCell = Jupyter.notebook.insert_cell_below('code');\n",
    "        newCell.set_text(code);\n",
    "        \n",
    "        // Execute after a short delay\n",
    "        setTimeout(() => {\n",
    "            newCell.execute();\n",
    "            // Cleanup storage\n",
    "            localStorage.removeItem(sessionId);\n",
    "            localStorage.removeItem(sessionId + '_timestamp');\n",
    "        }, 1000);\n",
    "    }\n",
    "    \n",
    "    // Main execution flow\n",
    "    if (sessionId) {\n",
    "        const checkReady = () => {\n",
    "            if (window.Jupyter && Jupyter.notebook) {\n",
    "                const code = localStorage.getItem(sessionId);\n",
    "                if (code) {\n",
    "                    injectAndRun(code);\n",
    "                } else {\n",
    "                    console.warn('No code found for session:', sessionId);\n",
    "                }\n",
    "            } else {\n",
    "                setTimeout(checkReady, 500);\n",
    "            }\n",
    "        };\n",
    "        \n",
    "        // Start checking for readiness\n",
    "        setTimeout(checkReady, inJupyterLab ? 3000 : 1000);\n",
    "    }\n",
    "})();\n",
    "\"\"\"))\n",
    "\n",
    "# Default imports (always runs)\n",
    "%matplotlib inline\n",
    "import control\n",
    "import matplotlib.pyplot as plt\n",
    "print(\"Automatic execution in progress...\")"
   ]
  }
 ],
 "metadata": {
  "kernelspec": {
   "display_name": "python-control",
   "language": "python",
   "name": "python3"
  },
  "language_info": {
   "codemirror_mode": {
    "name": "ipython",
    "version": 3
   },
   "file_extension": ".py",
   "mimetype": "text/x-python",
   "name": "python",
   "nbconvert_exporter": "python",
   "pygments_lexer": "ipython3",
   "version": "3.10"
  }
 },
 "nbformat": 4,
 "nbformat_minor": 5
}

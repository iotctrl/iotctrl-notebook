{
  "cells": [
    {
      "cell_type": "markdown",
      "metadata": {},
      "source": [
        "# \ud83e\uddea Welcome to IoTControl Simulation\n",
        "\n",
        "This environment is ready to run Python control system simulations.\n",
        "\n",
        "\u2705 Your generated code may already have been copied to your clipboard.\n",
        "\n",
        "\ud83d\udccd **Running in Google Colab or Binder?** This notebook will detect and adapt accordingly.\n",
        "\n",
        "\ud83d\udc49 In the cell below there is the runtime, run it and then **paste your code** (`Ctrl+V` or `Cmd+V`) and press **Shift + Enter** to run it.\n",
        "\n",
        "Enjoy!"
      ]
    },
    {
      "cell_type": "code",
      "execution_count": null,
      "metadata": {},
      "outputs": [],
      "source": [
        "# \ud83d\udee0 Runtime environment detection & conditional setup\n",
        "import sys\n",
        "import subprocess\n",
        "import importlib.util\n",
        "\n",
        "IN_COLAB = 'google.colab' in sys.modules\n",
        "\n",
        "# Install control package if not already installed (Colab needs it)\n",
        "if IN_COLAB:\n",
        "    print(\"\ud83d\udccd Running in Google Colab. Installing 'control'...\")\n",
        "    subprocess.run([sys.executable, '-m', 'pip', 'install', 'control'], check=True)\n",
        "else:\n",
        "    print(\"\ud83d\udccd Running in Binder or local Jupyter. Assuming dependencies are preinstalled.\")"
        "\n",        
        "print(\"\ud83d\udccd Runtime completed\")"
      ]
    },
    {
      "cell_type": "code",
      "execution_count": null,
      "metadata": {},
      "outputs": [],
      "source": []
    }
  ],
  "metadata": {
    "kernelspec": {
      "display_name": "python-control",
      "language": "python",
      "name": "python3"
    },
    "language_info": {
      "codemirror_mode": {
        "name": "ipython",
        "version": 3
      },
      "file_extension": ".py",
      "mimetype": "text/x-python",
      "name": "python",
      "nbconvert_exporter": "python",
      "pygments_lexer": "ipython3",
      "version": "3.10"
    }
  },
  "nbformat": 4,
  "nbformat_minor": 5
}

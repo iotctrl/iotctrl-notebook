{
  "cells": [
    {
      "cell_type": "markdown",
      "metadata": {},
      "source": [
        "# \ud83e\uddea Welcome to IoTControl Simulation\n",
        "\n",
        "This environment is ready to run Python control system simulations.\n",
        "\n",
        "\u2705 Your code has already been copied to your clipboard.\n",
        "\n",
        "\ud83d\udc49 In the cell below, **paste your code** (`Ctrl+V` or `Cmd+V`) and press **Shift + Enter** to run it.\n",
        "\n",
        "Enjoy!"
      ]
    },
    {
      "cell_type": "code",
      "execution_count": null,
      "metadata": {},
      "outputs": [],
      "source": [
        "# Paste your code below and press Shift + Enter"
      ]
    }
  ],
  "metadata": {
    "kernelspec": {
      "display_name": "python-control",
      "language": "python",
      "name": "python3"
    },
    "language_info": {
      "codemirror_mode": {
        "name": "ipython",
        "version": 3
      },
      "file_extension": ".py",
      "mimetype": "text/x-python",
      "name": "python",
      "nbconvert_exporter": "python",
      "pygments_lexer": "ipython3",
      "version": "3.10"
    }
  },
  "nbformat": 4,
  "nbformat_minor": 5
}

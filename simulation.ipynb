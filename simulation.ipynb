{
 "cells": [
  {
   "cell_type": "code",
   "execution_count": null,
   "metadata": {},
   "outputs": [],
   "source": [
    "from IPython.display import display, Javascript, HTML\n",
    "import json\n",
    "\n",
    "# Display loading message immediately\n",
    "display(HTML(\"<div id='status'>Initializing control system...</div>\"))\n",
    "\n",
    "# Step 1: Get the code from URL parameters using JavaScript\n",
    "display(Javascript(\"\"\"\n",
    "// Get the code from URL parameters\n",
    "const params = new URLSearchParams(window.location.search);\n",
    "const encodedCode = params.get('code');\n",
    "\n",
    "// Send the code to Python kernel\n",
    "if (encodedCode) {\n",
    "    const code = decodeURIComponent(encodedCode);\n",
    "    IPython.notebook.kernel.execute(`process_code(\"\"\"${code}\"\"\")`);\n",
    "    document.getElementById('status').innerHTML = 'Loading control system...';\n",
    "} else {\n",
    "    document.getElementById('status').innerHTML = 'No code provided. Ready for manual input.';\n",
    "    IPython.notebook.kernel.execute('load_default_imports()');\n",
    "}\n",
    "\"\"\"))\n",
    "\n",
    "# Step 2: Python function to process the code\n",
    "def process_code(encoded_code):\n",
    "    \"\"\"Decode and execute the control system code\"\"\"\n",
    "    try:\n",
    "        from base64 import b64decode\n",
    "        code = b64decode(encoded_code).decode('utf-8')\n",
    "        \n",
    "        # Inject into first cell and execute\n",
    "        display(Javascript(\"\"\"\n",
    "        var cell = Jupyter.notebook.get_cells().find(c => c.cell_type === 'code');\n",
    "        if (cell) {\n",
    "            cell.set_text(\"\"\" + JSON.stringify(code) + \"\"\");\n",
    "            cell.execute();\n",
    "        }\n",
    "        \"\"\"))\n",
    "        \n",
    "    except Exception as e:\n",
    "        display(HTML(f\"<div style='color:red'>Error loading code: {str(e)}</div>\"))\n",
    "        load_default_imports()\n",
    "\n",
    "# Step 3: Default imports when no code provided\n",
    "def load_default_imports():\n",
    "    \"\"\"Load default control system packages\"\"\"\n",
    "    %matplotlib inline\n",
    "    import control\n",
    "    import matplotlib.pyplot as plt\n",
    "    print(\"Notebook ready for manual input\")"
   ]
  }
 ],
 "metadata": {
  "kernelspec": {
   "display_name": "python-control",
   "language": "python",
   "name": "python3"
  },
  "language_info": {
   "codemirror_mode": {
    "name": "ipython",
    "version": 3
   },
   "file_extension": ".py",
   "mimetype": "text/x-python",
   "name": "python",
   "nbconvert_exporter": "python",
   "pygments_lexer": "ipython3",
   "version": "3.10"
  }
 },
 "nbformat": 4,
 "nbformat_minor": 5
}

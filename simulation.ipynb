{
 "cells": [
  {
   "cell_type": "code",
   "execution_count": null,
   "metadata": {},
   "outputs": [],
   "source": [
    "from IPython.display import display, HTML\n",
    "import time\n",
    "\n",
    "# Display status message\n",
    "display(HTML(\"<div id='status'>Initializing control system execution...</div>\"))\n",
    "\n",
    "# Function to force execution\n",
    "def force_execution():\n",
    "    \"\"\"Robust execution that works around JupyterLab extension issues\"\"\"\n",
    "    # Get session ID from URL\n",
    "    from urllib.parse import parse_qs, urlparse\n",
    "    query = urlparse(window.location.href).query\n",
    "    params = parse_qs(query)\n",
    "    session_id = params.get('session', [''])[0]\n",
    "    \n",
    "    if session_id:\n",
    "        try:\n",
    "            # Get code from sessionStorage\n",
    "            code = sessionStorage.getItem(session_id)\n",
    "            if code:\n",
    "                # Create a new cell\n",
    "                new_cell = Jupyter.notebook.insert_cell_below('code')\n",
    "                new_cell.set_text(code)\n",
    "                \n",
    "                # Execute after delay\n",
    "                time.sleep(1)\n",
    "                new_cell.execute()\n",
    "                \n",
    "                # Clean up\n",
    "                sessionStorage.removeItem(session_id)\n",
    "                return True\n",
    "        except Exception as e:\n",
    "            print(f\"Automatic execution failed: {str(e)}\")\n",
    "    return False\n",
    "\n",
    "# Try to execute automatically\n",
    "if not force_execution():\n",
    "    print(\"Manual execution required - see help below\")\n",
    "    display(HTML(\"\"\"\n",
    "    <div style=\"background:#ffebee;padding:10px;border-radius:5px\">\n",
    "        <h3>Automatic Execution Failed</h3>\n",
    "        <p>Please run these steps manually:</p>\n",
    "        <ol>\n",
    "            <li>Click on the cell below</li>\n",
    "            <li>Press Shift+Enter to execute</li>\n",
    "            <li>View your simulation results</li>\n",
    "        </ol>\n",
    "    </div>\n",
    "    \"\"\"))\n",
    "\n",
    "# Default imports\n",
    "%matplotlib inline\n",
    "import control\n",
    "import matplotlib.pyplot as plt"
   ]
  },
  {
   "cell_type": "code",
   "execution_count": null,
   "metadata": {},
   "outputs": [],
   "source": [
    "# This cell will be populated with your control system code\n",
    "# when automatic execution works\n",
    "print(\"Execute this cell manually if automatic loading failed\")\n",
    "print(\"Your control system code will appear here when loaded automatically\")"
   ]
  }
 ],
 "metadata": {
  "kernelspec": {
   "display_name": "python-control",
   "language": "python",
   "name": "python3"
  },
  "language_info": {
   "codemirror_mode": {
    "name": "ipython",
    "version": 3
   },
   "file_extension": ".py",
   "mimetype": "text/x-python",
   "name": "python",
   "nbconvert_exporter": "python",
   "pygments_lexer": "ipython3",
   "version": "3.10"
  }
 },
 "nbformat": 4,
 "nbformat_minor": 5
}
